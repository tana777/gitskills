{
  "nbformat": 4,
  "nbformat_minor": 0,
  "metadata": {
    "colab": {
      "name": "cs482_hw2.ipynb",
      "version": "0.3.2",
      "provenance": [],
      "collapsed_sections": [],
      "include_colab_link": true
    },
    "kernelspec": {
      "name": "python3",
      "display_name": "Python 3"
    },
    "accelerator": "GPU"
  },
  "cells": [
    {
      "cell_type": "markdown",
      "metadata": {
        "id": "view-in-github",
        "colab_type": "text"
      },
      "source": [
        "[View in Colaboratory](https://colab.research.google.com/github/tana777/gitskills/blob/master/cs482_hw2.ipynb)"
      ]
    },
    {
      "metadata": {
        "id": "eNqJmaFsRhlS",
        "colab_type": "code",
        "colab": {
          "base_uri": "https://localhost:8080/",
          "height": 401
        },
        "outputId": "ccbe487c-5501-45de-eaae-096bf2d12d6a"
      },
      "cell_type": "code",
      "source": [
        "# Install pytorch and tqdm (if necessary)\n",
        "!pip install torch\n",
        "!pip install torchvision\n",
        "!pip install tqdm"
      ],
      "execution_count": 1,
      "outputs": [
        {
          "output_type": "stream",
          "text": [
            "Collecting torch\n",
            "\u001b[?25l  Downloading https://files.pythonhosted.org/packages/49/0e/e382bcf1a6ae8225f50b99cc26effa2d4cc6d66975ccf3fa9590efcbedce/torch-0.4.1-cp36-cp36m-manylinux1_x86_64.whl (519.5MB)\n",
            "\u001b[K    100% |████████████████████████████████| 519.5MB 29kB/s \n",
            "tcmalloc: large alloc 1073750016 bytes == 0x5a29a000 @  0x7f641aa311c4 0x46d6a4 0x5fcbcc 0x4c494d 0x54f3c4 0x553aaf 0x54e4c8 0x54f4f6 0x553aaf 0x54efc1 0x54f24d 0x553aaf 0x54efc1 0x54f24d 0x553aaf 0x54efc1 0x54f24d 0x551ee0 0x54e4c8 0x54f4f6 0x553aaf 0x54efc1 0x54f24d 0x551ee0 0x54efc1 0x54f24d 0x551ee0 0x54e4c8 0x54f4f6 0x553aaf 0x54e4c8\n",
            "\u001b[?25hInstalling collected packages: torch\n",
            "Successfully installed torch-0.4.1\n",
            "Collecting torchvision\n",
            "\u001b[?25l  Downloading https://files.pythonhosted.org/packages/ca/0d/f00b2885711e08bd71242ebe7b96561e6f6d01fdb4b9dcf4d37e2e13c5e1/torchvision-0.2.1-py2.py3-none-any.whl (54kB)\n",
            "\u001b[K    100% |████████████████████████████████| 61kB 3.6MB/s \n",
            "\u001b[?25hRequirement already satisfied: numpy in /usr/local/lib/python3.6/dist-packages (from torchvision) (1.14.5)\n",
            "Collecting pillow>=4.1.1 (from torchvision)\n",
            "\u001b[?25l  Downloading https://files.pythonhosted.org/packages/d1/24/f53ff6b61b3d728b90934bddb4f03f8ab584a7f49299bf3bde56e2952612/Pillow-5.2.0-cp36-cp36m-manylinux1_x86_64.whl (2.0MB)\n",
            "\u001b[K    100% |████████████████████████████████| 2.0MB 9.1MB/s \n",
            "\u001b[?25hRequirement already satisfied: six in /usr/local/lib/python3.6/dist-packages (from torchvision) (1.11.0)\n",
            "Requirement already satisfied: torch in /usr/local/lib/python3.6/dist-packages (from torchvision) (0.4.1)\n",
            "Installing collected packages: pillow, torchvision\n",
            "  Found existing installation: Pillow 4.0.0\n",
            "    Uninstalling Pillow-4.0.0:\n",
            "      Successfully uninstalled Pillow-4.0.0\n",
            "Successfully installed pillow-5.2.0 torchvision-0.2.1\n",
            "Requirement already satisfied: tqdm in /usr/local/lib/python3.6/dist-packages (4.26.0)\n"
          ],
          "name": "stdout"
        }
      ]
    },
    {
      "metadata": {
        "id": "wA4n2ZsKP-dt",
        "colab_type": "code",
        "colab": {
          "base_uri": "https://localhost:8080/",
          "height": 35
        },
        "outputId": "9c899551-4b77-439d-ac0a-2343184532ca"
      },
      "cell_type": "code",
      "source": [
        "# Mount your google drive as the data drive\n",
        "# This will require google authorization\n",
        "from google.colab import drive\n",
        "drive.mount('/content/drive')"
      ],
      "execution_count": 3,
      "outputs": [
        {
          "output_type": "stream",
          "text": [
            "Mounted at /content/drive\n"
          ],
          "name": "stdout"
        }
      ]
    },
    {
      "metadata": {
        "id": "V3Hu3-dhIaga",
        "colab_type": "code",
        "colab": {}
      },
      "cell_type": "code",
      "source": [
        "# Handle imports\n",
        "\n",
        "import math\n",
        "import os\n",
        "import datetime\n",
        "import csv\n",
        "%matplotlib inline\n",
        "import matplotlib.pyplot as plt\n",
        "\n",
        "import torch\n",
        "import torch.nn as nn\n",
        "import torch.nn.functional as F\n",
        "import torch.optim as optim\n",
        "import torchvision\n",
        "from torchvision import datasets\n",
        "from torchvision import transforms\n",
        "from torch.autograd import Variable\n",
        "import numpy as np\n",
        "import tqdm\n",
        "\n",
        "from IPython import display"
      ],
      "execution_count": 0,
      "outputs": []
    },
    {
      "metadata": {
        "id": "Z7cF6oVvIesG",
        "colab_type": "code",
        "colab": {}
      },
      "cell_type": "code",
      "source": [
        "# The Args object will contain all of our parameters\n",
        "# If you want to run with different arguments, create another Args object\n",
        "\n",
        "class Args(object):\n",
        "  def __init__(self, name='mnist', batch_size=64, test_batch_size=1000,\n",
        "            epochs=10, lr=0.01, optimizer='sgd', momentum=0.5,\n",
        "            seed=1, log_interval=100, dataset='mnist',\n",
        "            data_dir='/content/drive/My Drive/cs482/data', model='default',\n",
        "            cuda=True):\n",
        "    self.name = name # name for this training run. Don't use spaces.\n",
        "    self.batch_size = batch_size\n",
        "    self.test_batch_size = test_batch_size # Input batch size for testing\n",
        "    self.epochs = epochs # Number of epochs to train\n",
        "    self.lr = lr # Learning rate\n",
        "    self.optimizer = optimizer # sgd/p1sgd/adam/rms_prop\n",
        "    self.momentum = momentum # SGD Momentum\n",
        "    self.seed = seed # Random seed\n",
        "    self.log_interval = log_interval # Batches to wait before logging\n",
        "                                     # detailed status. 0 = never\n",
        "    self.dataset = dataset # mnist/fashion_mnist\n",
        "    self.data_dir = data_dir\n",
        "    self.model = model # default/P2Q7DoubleChannelsNet/P2Q7HalfChannelsNet/\n",
        "                  # P2Q8BatchNormNet/P2Q9DropoutNet/P2Q10DropoutBatchnormNet/\n",
        "                  # P2Q11ExtraConvNet/P2Q12RemoveLayerNet/P2Q13UltimateNet\n",
        "    self.cuda = cuda and torch.cuda.is_available()"
      ],
      "execution_count": 0,
      "outputs": []
    },
    {
      "metadata": {
        "id": "ZTdCE87lIjtK",
        "colab_type": "code",
        "colab": {}
      },
      "cell_type": "code",
      "source": [
        "# Define the neural network classes\n",
        "\n",
        "class Net(nn.Module):\n",
        "    def __init__(self):\n",
        "        super(Net, self).__init__()\n",
        "        self.conv1 = nn.Conv2d(1, 10, kernel_size=5)\n",
        "        self.conv2 = nn.Conv2d(10, 20, kernel_size=5)\n",
        "        self.fc1 = nn.Linear(320, 50)\n",
        "        self.fc2 = nn.Linear(50, 10)\n",
        "\n",
        "    def forward(self, x):\n",
        "        # F is just a functional wrapper for modules from the nn package\n",
        "        # see http://pytorch.org/docs/_modules/torch/nn/functional.html\n",
        "        x = F.relu(F.max_pool2d(self.conv1(x), 2))\n",
        "        x = F.relu(F.max_pool2d(self.conv2(x), 2))\n",
        "        x = x.view(-1, 320)\n",
        "        x = F.relu(self.fc1(x))\n",
        "        x = F.dropout(x, training=self.training)\n",
        "        x = self.fc2(x)\n",
        "        return F.log_softmax(x, dim=1)\n",
        "\n",
        "\n",
        "class P2Q7HalfChannelsNet(nn.Module):\n",
        "    def __init__(self):\n",
        "        super(P2Q7HalfChannelsNet, self).__init__()\n",
        "        # TODO Implement me\n",
        "        raise NotImplementedError\n",
        "\n",
        "    def forward(self, x):\n",
        "        # TODO Implement me\n",
        "        raise NotImplementedError\n",
        "\n",
        "\n",
        "class P2Q7DoubleChannelsNet(nn.Module):\n",
        "    def __init__(self):\n",
        "        super(P2Q7DoubleChannelsNet, self).__init__()\n",
        "        # TODO Implement me\n",
        "        raise NotImplementedError\n",
        "\n",
        "    def forward(self, x):\n",
        "        # TODO Implement me\n",
        "        raise NotImplementedError\n",
        "\n",
        "class P2Q8BatchNormNet(nn.Module):\n",
        "    def __init__(self):\n",
        "        super(P2Q8BatchNormNet, self).__init__()\n",
        "        # TODO Implement me\n",
        "        raise NotImplementedError\n",
        "\n",
        "    def forward(self, x):\n",
        "        # TODO Implement me\n",
        "        raise NotImplementedError\n",
        "\n",
        "class P2Q9DropoutNet(nn.Module):\n",
        "    def __init__(self):\n",
        "        super(P2Q9DropoutNet, self).__init__()\n",
        "        # TODO Implement me\n",
        "        raise NotImplementedError\n",
        "\n",
        "    def forward(self, x):\n",
        "        # TODO Implement me\n",
        "        raise NotImplementedError\n",
        "\n",
        "class P2Q10DropoutBatchnormNet(nn.Module):\n",
        "    def __init__(self):\n",
        "        super(P2Q10DropoutBatchnormNet, self).__init__()\n",
        "        # TODO Implement me\n",
        "        raise NotImplementedError\n",
        "\n",
        "    def forward(self, x):\n",
        "        # TODO Implement me\n",
        "        raise NotImplementedError\n",
        "\n",
        "class P2Q11ExtraConvNet(nn.Module):\n",
        "    def __init__(self):\n",
        "        super(P2Q11ExtraConvNet, self).__init__()\n",
        "        # TODO Implement me\n",
        "        raise NotImplementedError\n",
        "\n",
        "    def forward(self, x):\n",
        "        # TODO Implement me\n",
        "        raise NotImplementedError\n",
        "\n",
        "class P2Q12RemoveLayerNet(nn.Module):\n",
        "    def __init__(self):\n",
        "        super(P2Q12RemoveLayerNet, self).__init__()\n",
        "        # TODO Implement me\n",
        "        raise NotImplementedError\n",
        "\n",
        "    def forward(self, x):\n",
        "        # TODO Implement me\n",
        "        raise NotImplementedError\n",
        "\n",
        "class P2Q13UltimateNet(nn.Module):\n",
        "    def __init__(self):\n",
        "        super(P2Q13UltimateNet, self).__init__()\n",
        "        # TODO Implement me\n",
        "        raise NotImplementedError\n",
        "\n",
        "    def forward(self, x):\n",
        "        # TODO Implement me\n",
        "        raise NotImplementedError"
      ],
      "execution_count": 0,
      "outputs": []
    },
    {
      "metadata": {
        "id": "l2Ejw36nIpRr",
        "colab_type": "code",
        "colab": {}
      },
      "cell_type": "code",
      "source": [
        "def prepare_dataset(args):\n",
        "    # choose the dataset\n",
        "    if args.dataset == 'mnist':\n",
        "        DatasetClass = datasets.MNIST\n",
        "    elif args.dataset == 'fashion_mnist':\n",
        "        DatasetClass = datasets.FashionMNIST\n",
        "    else:\n",
        "        raise ValueError('unknown dataset: ' + args.dataset +\n",
        "                ' try mnist or fashion_mnist')\n",
        "\n",
        "    def time_stamp(fname, fmt='%m-%d-%H-%M_{fname}'):\n",
        "        return datetime.datetime.now().strftime(fmt).format(fname=fname)\n",
        "        \n",
        "    training_run_name = time_stamp(args.dataset + '_' + args.name)\n",
        "\n",
        "    kwargs = {'num_workers': 1, 'pin_memory': True} if args.cuda else {}\n",
        "\n",
        "    # Create the dataset: mnist or fasion_mnist\n",
        "    dataset_dir = os.path.join(args.data_dir, args.dataset)\n",
        "    training_run_dir = os.path.join(args.data_dir, training_run_name)\n",
        "    train_dataset = DatasetClass(\n",
        "        dataset_dir, train=True, download=True,\n",
        "        transform=transforms.Compose([\n",
        "            transforms.ToTensor(),\n",
        "            transforms.Normalize((0.1307,), (0.3081,))\n",
        "        ]))\n",
        "    train_loader = torch.utils.data.DataLoader(\n",
        "        train_dataset, batch_size=args.batch_size, shuffle=True, **kwargs)\n",
        "    test_dataset = DatasetClass(\n",
        "        dataset_dir, train=False, transform=transforms.Compose([\n",
        "            transforms.ToTensor(),\n",
        "            transforms.Normalize((0.1307,), (0.3081,))\n",
        "        ]))\n",
        "    test_loader = torch.utils.data.DataLoader(\n",
        "        test_dataset, batch_size=args.test_batch_size, shuffle=True, **kwargs)\n",
        "    \n",
        "    if not os.path.exists(training_run_dir):\n",
        "        os.makedirs(training_run_dir)\n",
        "\n",
        "    return train_loader, test_loader, train_dataset, test_dataset, training_run_dir"
      ],
      "execution_count": 0,
      "outputs": []
    },
    {
      "metadata": {
        "id": "AVGaeczNItaS",
        "colab_type": "code",
        "colab": {
          "base_uri": "https://localhost:8080/",
          "height": 95
        },
        "outputId": "13770286-c3ad-4787-a3cb-0e8db78d7069"
      },
      "cell_type": "code",
      "source": [
        "# visualize some images\n",
        "\n",
        "args = Args()\n",
        "_, _, _, test_dataset, _ = prepare_dataset(args)\n",
        "images = test_dataset.test_data[:6]\n",
        "labels = test_dataset.test_labels[:6]\n",
        "fig, axes = plt.subplots(1,6)\n",
        "for axis, img, lbl in zip(axes, images, labels):\n",
        "    axis.imshow(img)\n",
        "    axis.set_title(lbl)\n",
        "    axis.set_yticklabels([])\n",
        "    axis.set_xticklabels([])\n",
        "plt.show()\n"
      ],
      "execution_count": 8,
      "outputs": [
        {
          "output_type": "display_data",
          "data": {
            "image/png": "[encoded data removed]",
            "text/plain": [
              "<matplotlib.figure.Figure at 0x7f39147bda20>"
            ]
          },
          "metadata": {
            "tags": []
          }
        }
      ]
    },
    {
      "metadata": {
        "id": "tD-StYJ2I6u2",
        "colab_type": "code",
        "colab": {}
      },
      "cell_type": "code",
      "source": [
        "def train(model, optimizer, train_loader, epoch, total_minibatch_count,\n",
        "        train_losses, train_accs):\n",
        "    # Training for a full epoch\n",
        "\n",
        "    model.train()\n",
        "    correct_count, total_loss, total_acc = 0., 0., 0.\n",
        "    progress_bar = tqdm.tqdm(train_loader, desc='Training')\n",
        "    \n",
        "    for batch_idx, (data, target) in enumerate(progress_bar):\n",
        "        if args.cuda:\n",
        "            data, target = data.cuda(), target.cuda()\n",
        "        data, target = Variable(data), Variable(target)\n",
        "\n",
        "        optimizer.zero_grad()\n",
        "\n",
        "        # Forward prediction step\n",
        "        output = model(data)\n",
        "        loss = F.nll_loss(output, target)\n",
        "\n",
        "        # Backpropagation step\n",
        "        loss.backward()\n",
        "        optimizer.step()\n",
        "\n",
        "        # The batch has ended, determine the accuracy of the predicted outputs\n",
        "        pred = output.data.max(1)[1]  \n",
        "\n",
        "        # target labels and predictions are categorical values from 0 to 9.\n",
        "        matches = target == pred\n",
        "        accuracy = matches.float().mean()\n",
        "        correct_count += matches.sum()\n",
        "\n",
        "        if args.log_interval != 0 and \\\n",
        "                total_minibatch_count % args.log_interval == 0:\n",
        "\n",
        "            train_losses.append(loss.data[0])\n",
        "            train_accs.append(accuracy.data[0])\n",
        "            \n",
        "        total_loss += loss.data\n",
        "        total_acc += accuracy.data\n",
        "            \n",
        "        progress_bar.set_description(\n",
        "            'Epoch: {} loss: {:.4f}, acc: {:.2f}'.format(\n",
        "                epoch, total_loss / (batch_idx + 1), total_acc / (batch_idx + 1)))\n",
        "        #progress_bar.refresh()\n",
        "\n",
        "        total_minibatch_count += 1\n",
        "\n",
        "    return total_minibatch_count"
      ],
      "execution_count": 0,
      "outputs": []
    },
    {
      "metadata": {
        "id": "KgCLKEHcI-bg",
        "colab_type": "code",
        "colab": {}
      },
      "cell_type": "code",
      "source": [
        "def test(model, test_loader, epoch, total_minibatch_count,\n",
        "        val_losses, val_accs):\n",
        "    # Validation Testing\n",
        "    model.eval()\n",
        "    test_loss, correct = 0., 0.\n",
        "    progress_bar = tqdm.tqdm(test_loader, desc='Validation')\n",
        "    with torch.no_grad():\n",
        "        for data, target in progress_bar:\n",
        "            if args.cuda:\n",
        "                data, target = data.cuda(), target.cuda()\n",
        "            data, target = Variable(data), Variable(target)\n",
        "            output = model(data)\n",
        "            test_loss += F.nll_loss(output, target, reduction='sum').data  # sum up batch loss\n",
        "            pred = output.data.max(1)[1]  # get the index of the max log-probability\n",
        "            correct += (target == pred).float().sum()\n",
        "\n",
        "    test_loss /= len(test_loader.dataset)\n",
        "    \n",
        "    acc = correct / len(test_loader.dataset)\n",
        "\n",
        "    val_losses.append(test_loss)\n",
        "    val_accs.append(acc)\n",
        "    \n",
        "    progress_bar.clear()\n",
        "    progress_bar.write(\n",
        "        '\\nEpoch: {} validation test results - Average val_loss: {:.4f}, val_acc: {}/{} ({:.2f}%)'.format(\n",
        "            epoch, test_loss, correct, len(test_loader.dataset),\n",
        "            100. * correct / len(test_loader.dataset)))\n",
        "\n",
        "    return acc"
      ],
      "execution_count": 0,
      "outputs": []
    },
    {
      "metadata": {
        "id": "khV-_vFSJGT8",
        "colab_type": "code",
        "colab": {}
      },
      "cell_type": "code",
      "source": [
        "# Run the experiment\n",
        "def run_experiment(args):\n",
        "\n",
        "    total_minibatch_count = 0\n",
        "\n",
        "    torch.manual_seed(args.seed)\n",
        "    if args.cuda:\n",
        "        torch.cuda.manual_seed(args.seed)\n",
        "\n",
        "    train_loader, test_loader, _, _, run_path = prepare_dataset(args)\n",
        "\n",
        "    epochs_to_run = args.epochs\n",
        "\n",
        "    # Choose model\n",
        "    # TODO add all the other models here if their parameter is specified\n",
        "    if args.model == 'default' or args.model == 'P2Q7DefaultChannelsNet':\n",
        "        model = Net()\n",
        "    elif args.model in globals():\n",
        "        model = globals()[args.model]()\n",
        "    else:\n",
        "        raise ValueError('Unknown model type: ' + args.model)\n",
        "\n",
        "    if args.cuda:\n",
        "        model.cuda()\n",
        "\n",
        "    # Choose optimizer\n",
        "    if args.optimizer == 'sgd':\n",
        "        optimizer = optim.SGD(model.parameters(), lr=args.lr, momentum=args.momentum)\n",
        "    elif args.optimizer == 'adam':\n",
        "        optimizer = optim.Adam(model.parameters())\n",
        "    elif args.optimizer == 'rmsprop':\n",
        "        optimizer = optim.RMSprop(model.parameters())\n",
        "    else:\n",
        "        raise ValueError('Unsupported optimizer: ' + args.optimizer)\n",
        "\n",
        "    # Run the primary training loop, starting with validation accuracy of 0\n",
        "    val_acc = 0\n",
        "    train_losses, train_accs = [], []\n",
        "    val_losses, val_accs = [], []\n",
        "\n",
        "    for epoch in range(1, epochs_to_run + 1):\n",
        "        \n",
        "        # train for 1 epoch\n",
        "        total_minibatch_count = train(model, optimizer, train_loader,\n",
        "                                    epoch, total_minibatch_count,\n",
        "                                    train_losses, train_accs)\n",
        "        # validate progress on test dataset\n",
        "        val_acc = test(model, test_loader, epoch, total_minibatch_count,\n",
        "                       val_losses, val_accs)\n",
        "        \n",
        "    fig, axes = plt.subplots(1,4, figsize=(13,4))\n",
        "    # plot the losses and acc\n",
        "    plt.title(args.name)\n",
        "    axes[0].plot(train_losses)\n",
        "    axes[0].set_title(\"Loss\")\n",
        "    axes[1].plot(train_accs)\n",
        "    axes[1].set_title(\"Acc\")\n",
        "    axes[2].plot(val_losses)\n",
        "    axes[2].set_title(\"Val loss\")\n",
        "    axes[3].plot(val_accs)\n",
        "    axes[3].set_title(\"Val Acc\")\n",
        "    \n",
        "    # Write to csv file\n",
        "    with open(os.path.join(run_path + 'train.csv'), 'w') as f:\n",
        "        csvw = csv.writer(f, delimiter=',')\n",
        "        for loss, acc in zip(train_losses, train_accs):\n",
        "            csvw.writerow((loss, acc))\n",
        "\n",
        "    # Predict and Test\n",
        "    images, labels = next(iter(test_loader))\n",
        "    if args.cuda:\n",
        "        images, labels = images.cuda(), labels.cuda()\n",
        "    output = model(images)\n",
        "    predicted = torch.max(output, 1)[1]\n",
        "    fig, axes = plt.subplots(1,6)\n",
        "    for i, (axis, img, lbl) in enumerate(zip(axes, images, predicted)):\n",
        "        if i > 5:\n",
        "            break\n",
        "        img = img.permute(1,2,0).squeeze()\n",
        "        axis.imshow(img)\n",
        "        axis.set_title(lbl.data)\n",
        "        axis.set_yticklabels([])\n",
        "        axis.set_xticklabels([])\n",
        "            \n",
        "    if args.dataset == 'fashion_mnist' and val_acc > 0.92 and val_acc <= 1.0:\n",
        "        print(\"Congratulations, you beat the Question 13 minimum of 92\"\n",
        "            \"with ({:.2f}%) validation accuracy!\".format(val_acc))"
      ],
      "execution_count": 0,
      "outputs": []
    },
    {
      "metadata": {
        "id": "OQ6ztrNWJKmm",
        "colab_type": "code",
        "colab": {
          "base_uri": "https://localhost:8080/",
          "height": 1106
        },
        "outputId": "5efbdeb9-ad0e-4ee1-d238-8d66c0f34502"
      },
      "cell_type": "code",
      "source": [
        "run_experiment(Args())"
      ],
      "execution_count": 14,
      "outputs": [
        {
          "output_type": "stream",
          "text": [
            "\rTraining:   0%|          | 0/938 [00:00<?, ?it/s]/usr/local/lib/python3.6/dist-packages/ipykernel_launcher.py:34: UserWarning: invalid index of a 0-dim tensor. This will be an error in PyTorch 0.5. Use tensor.item() to convert a 0-dim tensor to a Python number\n",
            "/usr/local/lib/python3.6/dist-packages/ipykernel_launcher.py:35: UserWarning: invalid index of a 0-dim tensor. This will be an error in PyTorch 0.5. Use tensor.item() to convert a 0-dim tensor to a Python number\n",
            "Epoch: 1 loss: 0.7109, acc: 0.77: 100%|██████████| 938/938 [00:17<00:00, 50.91it/s]\n",
            "Validation: 100%|██████████| 10/10 [00:01<00:00,  6.77it/s]\n",
            "Training:   0%|          | 0/938 [00:00<?, ?it/s]"
          ],
          "name": "stderr"
        },
        {
          "output_type": "stream",
          "text": [
            "\n",
            "Epoch: 1 validation test results - Average val_loss: 0.1589, val_acc: 9523.0/10000 (95.23%)\n"
          ],
          "name": "stdout"
        },
        {
          "output_type": "stream",
          "text": [
            "Epoch: 2 loss: 0.2512, acc: 0.92: 100%|██████████| 938/938 [00:18<00:00, 49.20it/s]\n",
            "Validation: 100%|██████████| 10/10 [00:01<00:00,  6.77it/s]\n",
            "Training:   0%|          | 0/938 [00:00<?, ?it/s]"
          ],
          "name": "stderr"
        },
        {
          "output_type": "stream",
          "text": [
            "\n",
            "Epoch: 2 validation test results - Average val_loss: 0.0966, val_acc: 9683.0/10000 (96.83%)\n"
          ],
          "name": "stdout"
        },
        {
          "output_type": "stream",
          "text": [
            "Epoch: 3 loss: 0.1887, acc: 0.94: 100%|██████████| 938/938 [00:18<00:00, 49.52it/s]\n",
            "Validation: 100%|██████████| 10/10 [00:01<00:00,  6.87it/s]\n",
            "Training:   0%|          | 0/938 [00:00<?, ?it/s]"
          ],
          "name": "stderr"
        },
        {
          "output_type": "stream",
          "text": [
            "\n",
            "Epoch: 3 validation test results - Average val_loss: 0.0750, val_acc: 9766.0/10000 (97.66%)\n"
          ],
          "name": "stdout"
        },
        {
          "output_type": "stream",
          "text": [
            "Epoch: 4 loss: 0.1586, acc: 0.95: 100%|██████████| 938/938 [00:19<00:00, 48.48it/s]\n",
            "Validation: 100%|██████████| 10/10 [00:01<00:00,  7.01it/s]\n",
            "Training:   0%|          | 0/938 [00:00<?, ?it/s]"
          ],
          "name": "stderr"
        },
        {
          "output_type": "stream",
          "text": [
            "\n",
            "Epoch: 4 validation test results - Average val_loss: 0.0617, val_acc: 9807.0/10000 (98.07%)\n"
          ],
          "name": "stdout"
        },
        {
          "output_type": "stream",
          "text": [
            "Epoch: 5 loss: 0.1377, acc: 0.96: 100%|██████████| 938/938 [00:19<00:00, 49.17it/s]\n",
            "Validation: 100%|██████████| 10/10 [00:01<00:00,  6.85it/s]\n",
            "Training:   0%|          | 0/938 [00:00<?, ?it/s]"
          ],
          "name": "stderr"
        },
        {
          "output_type": "stream",
          "text": [
            "\n",
            "Epoch: 5 validation test results - Average val_loss: 0.0559, val_acc: 9830.0/10000 (98.30%)\n"
          ],
          "name": "stdout"
        },
        {
          "output_type": "stream",
          "text": [
            "Epoch: 6 loss: 0.1254, acc: 0.96: 100%|██████████| 938/938 [00:18<00:00, 49.56it/s]\n",
            "Validation: 100%|██████████| 10/10 [00:01<00:00,  6.70it/s]\n",
            "Training:   0%|          | 0/938 [00:00<?, ?it/s]"
          ],
          "name": "stderr"
        },
        {
          "output_type": "stream",
          "text": [
            "\n",
            "Epoch: 6 validation test results - Average val_loss: 0.0496, val_acc: 9833.0/10000 (98.33%)\n"
          ],
          "name": "stdout"
        },
        {
          "output_type": "stream",
          "text": [
            "Epoch: 7 loss: 0.1143, acc: 0.97: 100%|██████████| 938/938 [00:18<00:00, 49.96it/s]\n",
            "Validation: 100%|██████████| 10/10 [00:01<00:00,  6.76it/s]\n",
            "Training:   0%|          | 0/938 [00:00<?, ?it/s]"
          ],
          "name": "stderr"
        },
        {
          "output_type": "stream",
          "text": [
            "\n",
            "Epoch: 7 validation test results - Average val_loss: 0.0478, val_acc: 9862.0/10000 (98.62%)\n"
          ],
          "name": "stdout"
        },
        {
          "output_type": "stream",
          "text": [
            "Epoch: 8 loss: 0.1031, acc: 0.97: 100%|██████████| 938/938 [00:19<00:00, 48.75it/s]\n",
            "Validation: 100%|██████████| 10/10 [00:01<00:00,  7.04it/s]\n",
            "Training:   0%|          | 0/938 [00:00<?, ?it/s]"
          ],
          "name": "stderr"
        },
        {
          "output_type": "stream",
          "text": [
            "\n",
            "Epoch: 8 validation test results - Average val_loss: 0.0451, val_acc: 9864.0/10000 (98.64%)\n"
          ],
          "name": "stdout"
        },
        {
          "output_type": "stream",
          "text": [
            "Epoch: 9 loss: 0.0996, acc: 0.97: 100%|██████████| 938/938 [00:19<00:00, 49.23it/s]\n",
            "Validation: 100%|██████████| 10/10 [00:01<00:00,  6.99it/s]\n",
            "Training:   0%|          | 0/938 [00:00<?, ?it/s]"
          ],
          "name": "stderr"
        },
        {
          "output_type": "stream",
          "text": [
            "\n",
            "Epoch: 9 validation test results - Average val_loss: 0.0385, val_acc: 9877.0/10000 (98.77%)\n"
          ],
          "name": "stdout"
        },
        {
          "output_type": "stream",
          "text": [
            "Epoch: 10 loss: 0.0916, acc: 0.97: 100%|██████████| 938/938 [00:19<00:00, 48.66it/s]\n",
            "Validation: 100%|██████████| 10/10 [00:01<00:00,  6.84it/s]\n"
          ],
          "name": "stderr"
        },
        {
          "output_type": "stream",
          "text": [
            "\n",
            "Epoch: 10 validation test results - Average val_loss: 0.0395, val_acc: 9881.0/10000 (98.81%)\n"
          ],
          "name": "stdout"
        },
        {
          "output_type": "display_data",
          "data": {
            "image/png": "[encoded data removed]",
            "text/plain": [
              "<matplotlib.figure.Figure at 0x7f38d15c20b8>"
            ]
          },
          "metadata": {
            "tags": []
          }
        },
        {
          "output_type": "display_data",
          "data": {
            "image/png": "[encoded data removed]",
            "text/plain": [
              "<matplotlib.figure.Figure at 0x7f38d150fe48>"
            ]
          },
          "metadata": {
            "tags": []
          }
        }
      ]
    },
    {
      "metadata": {
        "id": "2OpAU1x3Y55R",
        "colab_type": "code",
        "colab": {}
      },
      "cell_type": "code",
      "source": [
        ""
      ],
      "execution_count": 0,
      "outputs": []
    }
  ]
}